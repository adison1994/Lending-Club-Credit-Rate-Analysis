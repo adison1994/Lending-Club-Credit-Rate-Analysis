{
 "cells": [
  {
   "cell_type": "code",
   "execution_count": 37,
   "metadata": {},
   "outputs": [],
   "source": [
    "import numpy as np\n",
    "import pandas as pd\n",
    "import seaborn as sb\n",
    "import matplotlib.pyplot as plt   #Data visualisation libraries \n",
    "import sklearn\n",
    "from sklearn.model_selection import cross_val_score\n",
    "# Sci-kit Learn Models\n",
    "from sklearn.linear_model import LinearRegression\n",
    "from sklearn.ensemble import RandomForestRegressor\n",
    "from sklearn.neural_network import MLPRegressor\n",
    "# Metrics\n",
    "from sklearn.metrics import mean_squared_error\n",
    "from pprint import pprint\n",
    "import copy\n",
    "from sklearn.model_selection import ParameterGrid"
   ]
  },
  {
   "cell_type": "code",
   "execution_count": 38,
   "metadata": {},
   "outputs": [
    {
     "data": {
      "text/html": [
       "<div>\n",
       "<style scoped>\n",
       "    .dataframe tbody tr th:only-of-type {\n",
       "        vertical-align: middle;\n",
       "    }\n",
       "\n",
       "    .dataframe tbody tr th {\n",
       "        vertical-align: top;\n",
       "    }\n",
       "\n",
       "    .dataframe thead th {\n",
       "        text-align: right;\n",
       "    }\n",
       "</style>\n",
       "<table border=\"1\" class=\"dataframe\">\n",
       "  <thead>\n",
       "    <tr style=\"text-align: right;\">\n",
       "      <th></th>\n",
       "      <th>id</th>\n",
       "      <th>member_id</th>\n",
       "      <th>loan_amnt</th>\n",
       "      <th>funded_amnt</th>\n",
       "      <th>funded_amnt_inv</th>\n",
       "      <th>term</th>\n",
       "      <th>int_rate</th>\n",
       "      <th>installment</th>\n",
       "      <th>grade</th>\n",
       "      <th>sub_grade</th>\n",
       "      <th>...</th>\n",
       "      <th>total_pymnt</th>\n",
       "      <th>total_rec_prncp</th>\n",
       "      <th>total_rec_int</th>\n",
       "      <th>total_rec_late_fee</th>\n",
       "      <th>recoveries</th>\n",
       "      <th>last_pymnt_amnt</th>\n",
       "      <th>application_type</th>\n",
       "      <th>annual_inc_joint</th>\n",
       "      <th>dti_joint</th>\n",
       "      <th>tot_coll_amt</th>\n",
       "    </tr>\n",
       "  </thead>\n",
       "  <tbody>\n",
       "    <tr>\n",
       "      <th>0</th>\n",
       "      <td>1068967</td>\n",
       "      <td>1303403</td>\n",
       "      <td>4500</td>\n",
       "      <td>4500</td>\n",
       "      <td>4500</td>\n",
       "      <td>1</td>\n",
       "      <td>6.03</td>\n",
       "      <td>136.96</td>\n",
       "      <td>1</td>\n",
       "      <td>1</td>\n",
       "      <td>...</td>\n",
       "      <td>4930.30217</td>\n",
       "      <td>4500.0</td>\n",
       "      <td>430.30</td>\n",
       "      <td>0</td>\n",
       "      <td>0.0</td>\n",
       "      <td>138.95</td>\n",
       "      <td>1</td>\n",
       "      <td>0</td>\n",
       "      <td>0</td>\n",
       "      <td>0</td>\n",
       "    </tr>\n",
       "    <tr>\n",
       "      <th>1</th>\n",
       "      <td>1068350</td>\n",
       "      <td>1302971</td>\n",
       "      <td>3500</td>\n",
       "      <td>3500</td>\n",
       "      <td>3500</td>\n",
       "      <td>1</td>\n",
       "      <td>6.03</td>\n",
       "      <td>106.53</td>\n",
       "      <td>1</td>\n",
       "      <td>1</td>\n",
       "      <td>...</td>\n",
       "      <td>3834.66085</td>\n",
       "      <td>3500.0</td>\n",
       "      <td>334.66</td>\n",
       "      <td>0</td>\n",
       "      <td>0.0</td>\n",
       "      <td>107.86</td>\n",
       "      <td>1</td>\n",
       "      <td>0</td>\n",
       "      <td>0</td>\n",
       "      <td>0</td>\n",
       "    </tr>\n",
       "    <tr>\n",
       "      <th>2</th>\n",
       "      <td>1067919</td>\n",
       "      <td>1302295</td>\n",
       "      <td>6375</td>\n",
       "      <td>6375</td>\n",
       "      <td>6375</td>\n",
       "      <td>1</td>\n",
       "      <td>7.51</td>\n",
       "      <td>198.34</td>\n",
       "      <td>1</td>\n",
       "      <td>3</td>\n",
       "      <td>...</td>\n",
       "      <td>6737.55000</td>\n",
       "      <td>6375.0</td>\n",
       "      <td>362.55</td>\n",
       "      <td>0</td>\n",
       "      <td>0.0</td>\n",
       "      <td>2585.54</td>\n",
       "      <td>1</td>\n",
       "      <td>0</td>\n",
       "      <td>0</td>\n",
       "      <td>0</td>\n",
       "    </tr>\n",
       "    <tr>\n",
       "      <th>3</th>\n",
       "      <td>1067109</td>\n",
       "      <td>1301487</td>\n",
       "      <td>8500</td>\n",
       "      <td>8500</td>\n",
       "      <td>8500</td>\n",
       "      <td>1</td>\n",
       "      <td>6.03</td>\n",
       "      <td>258.71</td>\n",
       "      <td>1</td>\n",
       "      <td>1</td>\n",
       "      <td>...</td>\n",
       "      <td>9074.73000</td>\n",
       "      <td>8500.0</td>\n",
       "      <td>574.73</td>\n",
       "      <td>0</td>\n",
       "      <td>0.0</td>\n",
       "      <td>4936.27</td>\n",
       "      <td>1</td>\n",
       "      <td>0</td>\n",
       "      <td>0</td>\n",
       "      <td>0</td>\n",
       "    </tr>\n",
       "    <tr>\n",
       "      <th>4</th>\n",
       "      <td>1066084</td>\n",
       "      <td>1300233</td>\n",
       "      <td>5000</td>\n",
       "      <td>5000</td>\n",
       "      <td>5000</td>\n",
       "      <td>1</td>\n",
       "      <td>6.03</td>\n",
       "      <td>152.18</td>\n",
       "      <td>1</td>\n",
       "      <td>1</td>\n",
       "      <td>...</td>\n",
       "      <td>5410.75000</td>\n",
       "      <td>5000.0</td>\n",
       "      <td>410.75</td>\n",
       "      <td>0</td>\n",
       "      <td>0.0</td>\n",
       "      <td>2065.02</td>\n",
       "      <td>1</td>\n",
       "      <td>0</td>\n",
       "      <td>0</td>\n",
       "      <td>0</td>\n",
       "    </tr>\n",
       "  </tbody>\n",
       "</table>\n",
       "<p>5 rows × 31 columns</p>\n",
       "</div>"
      ],
      "text/plain": [
       "        id  member_id  loan_amnt  funded_amnt  funded_amnt_inv  term  \\\n",
       "0  1068967    1303403       4500         4500             4500     1   \n",
       "1  1068350    1302971       3500         3500             3500     1   \n",
       "2  1067919    1302295       6375         6375             6375     1   \n",
       "3  1067109    1301487       8500         8500             8500     1   \n",
       "4  1066084    1300233       5000         5000             5000     1   \n",
       "\n",
       "   int_rate  installment  grade  sub_grade      ...       total_pymnt  \\\n",
       "0      6.03       136.96      1          1      ...        4930.30217   \n",
       "1      6.03       106.53      1          1      ...        3834.66085   \n",
       "2      7.51       198.34      1          3      ...        6737.55000   \n",
       "3      6.03       258.71      1          1      ...        9074.73000   \n",
       "4      6.03       152.18      1          1      ...        5410.75000   \n",
       "\n",
       "   total_rec_prncp  total_rec_int  total_rec_late_fee  recoveries  \\\n",
       "0           4500.0         430.30                   0         0.0   \n",
       "1           3500.0         334.66                   0         0.0   \n",
       "2           6375.0         362.55                   0         0.0   \n",
       "3           8500.0         574.73                   0         0.0   \n",
       "4           5000.0         410.75                   0         0.0   \n",
       "\n",
       "   last_pymnt_amnt  application_type  annual_inc_joint  dti_joint  \\\n",
       "0           138.95                 1                 0          0   \n",
       "1           107.86                 1                 0          0   \n",
       "2          2585.54                 1                 0          0   \n",
       "3          4936.27                 1                 0          0   \n",
       "4          2065.02                 1                 0          0   \n",
       "\n",
       "   tot_coll_amt  \n",
       "0             0  \n",
       "1             0  \n",
       "2             0  \n",
       "3             0  \n",
       "4             0  \n",
       "\n",
       "[5 rows x 31 columns]"
      ]
     },
     "execution_count": 38,
     "metadata": {},
     "output_type": "execute_result"
    }
   ],
   "source": [
    "loan_df = pd.read_csv('D:\\Academic\\Data Science\\lc_data/cleaned_data.csv')\n",
    "loan_df.head(5)\n",
    "test_df = pd.read_csv('D:\\Academic\\Data Science\\lc_data/AnalysisTestCaseData.csv')\n",
    "test_df.head(5)"
   ]
  },
  {
   "cell_type": "code",
   "execution_count": 39,
   "metadata": {},
   "outputs": [],
   "source": [
    "# Labels (y_true of this dataset)\n",
    "y = loan_df.pop(\"int_rate\")\n",
    "z = test_df.pop(\"int_rate\")"
   ]
  },
  {
   "cell_type": "code",
   "execution_count": 40,
   "metadata": {},
   "outputs": [],
   "source": [
    "train = int(len(loan_df) * 0.60)\n",
    "val = int(len(loan_df) * 0.20)\n",
    "test = int(len(loan_df) * 0.20)\n",
    "case = int(len(test_df))"
   ]
  },
  {
   "cell_type": "code",
   "execution_count": 41,
   "metadata": {},
   "outputs": [],
   "source": [
    "def cross_validate(clf, df, test_x, test_y, k = 5) :\n",
    "  # Build the metric dict.\n",
    "  metric = {\"train\":{\"mse\": [], \"score\": []},\n",
    "            \"val\" : {\"mse\": [], \"score\": []},\n",
    "            \"test\" :{\"mse\": [], \"score\": []}};\n",
    "\n",
    "  split = int(len(df) * 0.80)\n",
    "  for i in range(k) :\n",
    "    df = df.sample(frac=1)\n",
    "    y = df[\"label\"]\n",
    "    x = df.loc[:, df.columns != 'label']\n",
    "    train_x, train_y = x[:split],y[:split]\n",
    "    val_x, val_y = x[split:], y[split:]\n",
    "    model = copy.deepcopy(clf)\n",
    "    model.fit(train_x, train_y)  \n",
    "    # Log the Mean Square Error\n",
    "    metric[\"train\"][\"mse\"].append(mean_squared_error(train_y,model.predict(train_x)))\n",
    "    metric[\"val\"][\"mse\"].append(mean_squared_error(val_y,model.predict(val_x)))\n",
    "    metric['test'][\"mse\"].append(mean_squared_error(test_y,model.predict(test_x))) \n",
    "    # Log the Model Score\n",
    "    metric[\"train\"][\"score\"].append(model.score(train_x,train_y))\n",
    "    metric[\"val\"][\"score\"].append(model.score(val_x,val_y))\n",
    "    metric[\"test\"][\"score\"].append(model.score(test_x,test_y))    \n",
    "  return metric\n",
    "  "
   ]
  },
  {
   "cell_type": "code",
   "execution_count": 42,
   "metadata": {},
   "outputs": [],
   "source": [
    "crossValidationSet = copy.deepcopy(loan_df[:train+val]);\n",
    "crossValidationSet[\"label\"] = y[:train+val];"
   ]
  },
  {
   "cell_type": "code",
   "execution_count": 43,
   "metadata": {},
   "outputs": [],
   "source": [
    "def mape(y_true, y_pred): \n",
    "    y_true, y_pred = np.array(y_true), np.array(y_pred)\n",
    "    return np.mean(np.abs((y_true - y_pred) / y_true)) * 100"
   ]
  },
  {
   "cell_type": "code",
   "execution_count": 44,
   "metadata": {},
   "outputs": [],
   "source": [
    "train_x,train_y = loan_df[:train], y[:train]\n",
    "val_x, val_y = loan_df[train: train + val], y[train: train + val]\n",
    "test_x, test_y = loan_df[train + test :], y[train + test :]\n",
    "case_x, case_y = test_df[:case], y[:case]\n",
    "\n",
    "assert len(train_x) == train, \"Training set length does not match expected train length\"\n",
    "assert len(val_x) == val, \"Validation set length does not match expected validation length\"\n",
    "assert len(test_x) >= test , \"Test set length does not match expected test length\""
   ]
  },
  {
   "cell_type": "code",
   "execution_count": 45,
   "metadata": {},
   "outputs": [
    {
     "data": {
      "text/plain": [
       "LinearRegression(copy_X=True, fit_intercept=True, n_jobs=None,\n",
       "         normalize=False)"
      ]
     },
     "execution_count": 45,
     "metadata": {},
     "output_type": "execute_result"
    }
   ],
   "source": [
    "lr = LinearRegression() # Init\n",
    "lr_case = LinearRegression()\n",
    "l1 = LinearRegression(copy_X=True, fit_intercept=True, n_jobs=None,\n",
    "         normalize=False)\n",
    "l2 = LinearRegression(copy_X=True, fit_intercept=False, n_jobs=None,\n",
    "         normalize=True)\n",
    "lr.fit(train_x, train_y) # Train\n",
    "lr_case.fit(case_x, case_y) # Case"
   ]
  },
  {
   "cell_type": "markdown",
   "metadata": {},
   "source": [
    "# Linear Regression Score and MSE\n",
    "\n",
    "1. Score (0.0 to 1.0) 1.0 being the highest \n",
    "2. MSE (0.0 to 1.0) 0.0 being the best"
   ]
  },
  {
   "cell_type": "code",
   "execution_count": 46,
   "metadata": {},
   "outputs": [
    {
     "name": "stdout",
     "output_type": "stream",
     "text": [
      "********************MSE********************\n",
      "Training Set Score Linear Regression: 0.9602038090793331\n",
      "Validation Set Score Linear Regression: 0.9837360795034014\n",
      "Test Set Score Linear Regression: 0.9870914423635125\n",
      "Training Set MSE Linear Regression: 0.7588524105425732\n",
      "Validation Set MSE Linear Regression: 0.30090928582755705\n",
      "Test Set MSE Linear Regression: 0.24695311566090825\n",
      "********************MAPE********************\n",
      "Training Set Score Linear Regression: 0.9602038090793331\n",
      "Validation Set Score Linear Regression: 0.9837360795034014\n",
      "Test Set Score Linear Regression: 0.9870914423635125\n",
      "Training Set MAPE Linear Regression: 4.992220117102113\n",
      "Validation Set MAPE Linear Regression: 4.130548073703696\n",
      "Test Set MAPE Linear Regression: 3.564994794289469\n",
      "********************Metrics for Case Data********************\n",
      "R2 Score Linear Regression: 0.6229399217587759\n",
      "Case Set MAPE Linear Regression: 17.839923698310233\n"
     ]
    }
   ],
   "source": [
    "print(\"********************MSE********************\")\n",
    "# MSE on training set\n",
    "print(\"Training Set Score Linear Regression:\", lr.score(train_x,train_y))\n",
    "\n",
    "# MSE on validation set\n",
    "print(\"Validation Set Score Linear Regression:\", lr.score(val_x, val_y))\n",
    "\n",
    "# MSE on test set\n",
    "print(\"Test Set Score Linear Regression:\", lr.score(test_x, test_y))\n",
    "\n",
    "# MSE on training set\n",
    "print(\"Training Set MSE Linear Regression:\", mean_squared_error(train_y, lr.predict(train_x)))\n",
    "\n",
    "# MSE on validation set\n",
    "print(\"Validation Set MSE Linear Regression:\", mean_squared_error(val_y, lr.predict(val_x)))\n",
    "\n",
    "# MSE on test set\n",
    "print(\"Test Set MSE Linear Regression:\", mean_squared_error(test_y, lr.predict(test_x)))\n",
    "\n",
    "print(\"********************MAPE********************\")\n",
    "# MSE on training set\n",
    "print(\"Training Set Score Linear Regression:\", lr.score(train_x,train_y))\n",
    "\n",
    "# MSE on validation set\n",
    "print(\"Validation Set Score Linear Regression:\", lr.score(val_x, val_y))\n",
    "\n",
    "# MAPE on test set\n",
    "print(\"Test Set Score Linear Regression:\", lr.score(test_x, test_y))\n",
    "\n",
    "# MAPE on training set\n",
    "print(\"Training Set MAPE Linear Regression:\", mape(train_y, lr.predict(train_x)))\n",
    "\n",
    "# MAPE on validation set\n",
    "print(\"Validation Set MAPE Linear Regression:\", mape(val_y, lr.predict(val_x)))\n",
    "\n",
    "# MAPE on test set\n",
    "print(\"Test Set MAPE Linear Regression:\", mape(test_y, lr.predict(test_x)))\n",
    "\n",
    "print(\"********************Metrics for Case Data********************\")\n",
    "# R2 on case set\n",
    "print(\"R2 Score Linear Regression:\", lr_case.score(case_x, case_y ))\n",
    "# MAPE on case set\n",
    "print(\"Case Set MAPE Linear Regression:\", mape(case_y, lr_case.predict(case_x)))"
   ]
  },
  {
   "cell_type": "markdown",
   "metadata": {},
   "source": [
    "# 5 Fold Cross Validation"
   ]
  },
  {
   "cell_type": "code",
   "execution_count": 47,
   "metadata": {},
   "outputs": [
    {
     "name": "stdout",
     "output_type": "stream",
     "text": [
      "{'test': {'mse': [0.1703380733501605,\n",
      "                  0.1699350997549044,\n",
      "                  0.17079617465185265,\n",
      "                  0.17027254504494188,\n",
      "                  0.16998594455895355],\n",
      "          'score': [0.9910962093689558,\n",
      "                    0.9911172733181448,\n",
      "                    0.9910722638235012,\n",
      "                    0.9910996346179245,\n",
      "                    0.9911146155947068]},\n",
      " 'train': {'mse': [0.6232439881174426,\n",
      "                   0.6198033163357533,\n",
      "                   0.6217737081632708,\n",
      "                   0.6214534285421622,\n",
      "                   0.621056109592808],\n",
      "           'score': [0.967511578849207,\n",
      "                     0.9676848117041561,\n",
      "                     0.9675716259642054,\n",
      "                     0.9675746049545096,\n",
      "                     0.9675953076083069]},\n",
      " 'val': {'mse': [0.6133578754105337,\n",
      "                 0.627148052925956,\n",
      "                 0.6193116026256982,\n",
      "                 0.6205576882986947,\n",
      "                 0.622094454969878],\n",
      "         'score': [0.9678555724168878,\n",
      "                   0.9671579423286357,\n",
      "                   0.9676103090974111,\n",
      "                   0.9675999113968934,\n",
      "                   0.9675200155300641]}}\n"
     ]
    }
   ],
   "source": [
    "lr_cv = LinearRegression()\n",
    "cv_result = cross_validate(lr_cv, crossValidationSet, test_x, test_y)\n",
    "pprint(cv_result)"
   ]
  },
  {
   "cell_type": "code",
   "execution_count": 48,
   "metadata": {},
   "outputs": [],
   "source": [
    "lr_predictions = lr.predict(test_x)\n",
    "lr_case_pred = lr_case.predict(case_x)"
   ]
  },
  {
   "cell_type": "code",
   "execution_count": 49,
   "metadata": {},
   "outputs": [
    {
     "data": {
      "text/plain": [
       "<matplotlib.collections.PathCollection at 0x1f70e832668>"
      ]
     },
     "execution_count": 49,
     "metadata": {},
     "output_type": "execute_result"
    },
    {
     "data": {
      "image/png": "[encoded data removed]",
      "text/plain": [
       "<Figure size 432x288 with 1 Axes>"
      ]
     },
     "metadata": {
      "needs_background": "light"
     },
     "output_type": "display_data"
    }
   ],
   "source": [
    "plt.scatter(test_y,lr_predictions)"
   ]
  },
  {
   "cell_type": "code",
   "execution_count": 50,
   "metadata": {},
   "outputs": [
    {
     "data": {
      "text/plain": [
       "<matplotlib.collections.PathCollection at 0x1f70e883dd8>"
      ]
     },
     "execution_count": 50,
     "metadata": {},
     "output_type": "execute_result"
    },
    {
     "data": {
      "image/png": "[encoded data removed]",
      "text/plain": [
       "<Figure size 432x288 with 1 Axes>"
      ]
     },
     "metadata": {
      "needs_background": "light"
     },
     "output_type": "display_data"
    }
   ],
   "source": [
    "plt.scatter(case_y,lr_case_pred)"
   ]
  },
  {
   "cell_type": "markdown",
   "metadata": {},
   "source": [
    "# Grid Search for Hyperparameter Tuning"
   ]
  },
  {
   "cell_type": "code",
   "execution_count": 51,
   "metadata": {},
   "outputs": [],
   "source": [
    "# Linear Regression Params\n",
    "fit_intercept : bool\n",
    "normalize : bool\n",
    "params = {\"fit_intercept\":[True, False], \"normalize\" : [True, False]}\n",
    "grid = list(ParameterGrid(params))\n",
    "result = [] # This result will contain the results for 5 cross validations per param combination created by ParameterGrid\n",
    "for param in grid :\n",
    "  result.append(cross_validate(LinearRegression(param),crossValidationSet, test_x, test_y))\n",
    "  "
   ]
  },
  {
   "cell_type": "code",
   "execution_count": 52,
   "metadata": {},
   "outputs": [
    {
     "name": "stdout",
     "output_type": "stream",
     "text": [
      "Result of {'fit_intercept': True, 'normalize': True} hyper parameters is\n",
      "{'test': {'mse': [0.1698449597669441,\n",
      "                  0.16939704068340694,\n",
      "                  0.17139814698497804,\n",
      "                  0.17047020501849816,\n",
      "                  0.17028343667255288],\n",
      "          'score': [0.9911219850514907,\n",
      "                    0.9911453983592793,\n",
      "                    0.9910407979538078,\n",
      "                    0.9910893026763563,\n",
      "                    0.9910990652985117]},\n",
      " 'train': {'mse': [0.6235737301510373,\n",
      "                   0.622614412517702,\n",
      "                   0.6217075284391466,\n",
      "                   0.6220074404021696,\n",
      "                   0.6214018056462144],\n",
      "           'score': [0.9674845071167282,\n",
      "                     0.9675418086357536,\n",
      "                     0.9675446491203047,\n",
      "                     0.9675439117046343,\n",
      "                     0.9675705916786745]},\n",
      " 'val': {'mse': [0.6120506026917109,\n",
      "                 0.615866183478882,\n",
      "                 0.6266297946751244,\n",
      "                 0.6184015262032365,\n",
      "                 0.6206888284451477],\n",
      "         'score': [0.9679632740500016,\n",
      "                   0.9677344049570448,\n",
      "                   0.9673499470945696,\n",
      "                   0.9677198441106093,\n",
      "                   0.967620100380967]}}\n"
     ]
    }
   ],
   "source": [
    "print(\"Result of\" , grid[0] , \"hyper parameters is\")\n",
    "pprint(result[0])"
   ]
  },
  {
   "cell_type": "markdown",
   "metadata": {},
   "source": [
    "\n",
    "# Random Forest"
   ]
  },
  {
   "cell_type": "code",
   "execution_count": 53,
   "metadata": {},
   "outputs": [
    {
     "name": "stderr",
     "output_type": "stream",
     "text": [
      "C:\\ProgramData\\Anaconda3\\lib\\site-packages\\sklearn\\ensemble\\forest.py:246: FutureWarning: The default value of n_estimators will change from 10 in version 0.20 to 100 in 0.22.\n",
      "  \"10 in version 0.20 to 100 in 0.22.\", FutureWarning)\n",
      "C:\\ProgramData\\Anaconda3\\lib\\site-packages\\sklearn\\ensemble\\forest.py:246: FutureWarning: The default value of n_estimators will change from 10 in version 0.20 to 100 in 0.22.\n",
      "  \"10 in version 0.20 to 100 in 0.22.\", FutureWarning)\n"
     ]
    },
    {
     "data": {
      "text/plain": [
       "RandomForestRegressor(bootstrap=True, criterion='mse', max_depth=None,\n",
       "           max_features='auto', max_leaf_nodes=None,\n",
       "           min_impurity_decrease=0.0, min_impurity_split=None,\n",
       "           min_samples_leaf=1, min_samples_split=2,\n",
       "           min_weight_fraction_leaf=0.0, n_estimators=10, n_jobs=None,\n",
       "           oob_score=False, random_state=None, verbose=0, warm_start=False)"
      ]
     },
     "execution_count": 53,
     "metadata": {},
     "output_type": "execute_result"
    }
   ],
   "source": [
    "rf = RandomForestRegressor() # Init\n",
    "rf.fit(train_x, train_y) # Train\n",
    "rf_case = RandomForestRegressor() \n",
    "rf_case.fit(case_x, case_y)"
   ]
  },
  {
   "cell_type": "markdown",
   "metadata": {},
   "source": [
    "# Random Forest Regressor Score and MSE\n",
    "1. Score (0.0 to 1.0) 1.0 being the highest \n",
    "2. MSE (0.0 to 1.0) 0.0 being the best"
   ]
  },
  {
   "cell_type": "code",
   "execution_count": 54,
   "metadata": {},
   "outputs": [
    {
     "name": "stdout",
     "output_type": "stream",
     "text": [
      "********************MSE********************\n",
      "Training Set Score Random Forest  : 0.9997450387635903\n",
      "Validation Set Score Random Forest  : 0.9987831688859132\n",
      "Test Set Score Random Forest  : 0.9936869457973617\n",
      "Training Set MSE Random Forest : 0.0048617202895142085\n",
      "Validation Set MSE Random Forest : 0.022513377484178997\n",
      "Test Set MSE Random Forest : 0.12077479518478089\n",
      "********************MAPE********************\n",
      "Training Set Score Random Forest  : 0.9997450387635903\n",
      "Validation Set Score Random Forest  : 0.9987831688859132\n",
      "Test Set Score Random Forest  : 0.9936869457973617\n",
      "Training Set MAPE Random Forest : 0.023754709955674625\n",
      "Validation Set MAPE Random Forest : 0.5367612750780354\n",
      "Test Set MAPE Random Forest : 1.766451527951021\n",
      "********************Metrics for Case Data********************\n",
      "R2 Score Case Data RF: 0.8231691494516679\n",
      "Case Set MAPE RF: 10.545392797155525\n"
     ]
    }
   ],
   "source": [
    "print(\"********************MSE********************\")\n",
    "# MSE on training set\n",
    "print(\"Training Set Score Random Forest  :\", rf.score(train_x,train_y))\n",
    "\n",
    "# MSE on validation set\n",
    "print(\"Validation Set Score Random Forest  :\", rf.score(val_x, val_y))\n",
    "\n",
    "# MSE on test set\n",
    "print(\"Test Set Score Random Forest  :\", rf.score(test_x, test_y))\n",
    "\n",
    "# MSE on training set\n",
    "print(\"Training Set MSE Random Forest :\", mean_squared_error(train_y, rf.predict(train_x)))\n",
    "\n",
    "# MSE on validation set\n",
    "print(\"Validation Set MSE Random Forest :\", mean_squared_error(val_y, rf.predict(val_x)))\n",
    "\n",
    "# MSE on test set\n",
    "print(\"Test Set MSE Random Forest :\", mean_squared_error(test_y, rf.predict(test_x)))\n",
    "\n",
    "print(\"********************MAPE********************\")\n",
    "# MAPE on training set\n",
    "print(\"Training Set Score Random Forest  :\", rf.score(train_x,train_y))\n",
    "\n",
    "# MAPE on validation set\n",
    "print(\"Validation Set Score Random Forest  :\", rf.score(val_x, val_y))\n",
    "\n",
    "# MAPE on test set\n",
    "print(\"Test Set Score Random Forest  :\", rf.score(test_x, test_y))\n",
    "\n",
    "# MAPE on training set\n",
    "print(\"Training Set MAPE Random Forest :\", mape(train_y, rf.predict(train_x)))\n",
    "\n",
    "# MAPE on validation set\n",
    "print(\"Validation Set MAPE Random Forest :\", mape(val_y, rf.predict(val_x)))\n",
    "\n",
    "# MAPE on test set\n",
    "print(\"Test Set MAPE Random Forest :\", mape(test_y, rf.predict(test_x)))\n",
    "\n",
    "print(\"********************Metrics for Case Data********************\")\n",
    "# R2 on case set\n",
    "print(\"R2 Score Case Data RF:\", rf_case.score(case_x, case_y ))\n",
    "# MAPE on case set\n",
    "print(\"Case Set MAPE RF:\", mape(case_y, rf_case.predict(case_x)))"
   ]
  },
  {
   "cell_type": "markdown",
   "metadata": {},
   "source": [
    "# 5 Fold Cross Validation"
   ]
  },
  {
   "cell_type": "code",
   "execution_count": 55,
   "metadata": {},
   "outputs": [
    {
     "name": "stderr",
     "output_type": "stream",
     "text": [
      "C:\\ProgramData\\Anaconda3\\lib\\site-packages\\sklearn\\ensemble\\forest.py:246: FutureWarning: The default value of n_estimators will change from 10 in version 0.20 to 100 in 0.22.\n",
      "  \"10 in version 0.20 to 100 in 0.22.\", FutureWarning)\n",
      "C:\\ProgramData\\Anaconda3\\lib\\site-packages\\sklearn\\ensemble\\forest.py:246: FutureWarning: The default value of n_estimators will change from 10 in version 0.20 to 100 in 0.22.\n",
      "  \"10 in version 0.20 to 100 in 0.22.\", FutureWarning)\n",
      "C:\\ProgramData\\Anaconda3\\lib\\site-packages\\sklearn\\ensemble\\forest.py:246: FutureWarning: The default value of n_estimators will change from 10 in version 0.20 to 100 in 0.22.\n",
      "  \"10 in version 0.20 to 100 in 0.22.\", FutureWarning)\n",
      "C:\\ProgramData\\Anaconda3\\lib\\site-packages\\sklearn\\ensemble\\forest.py:246: FutureWarning: The default value of n_estimators will change from 10 in version 0.20 to 100 in 0.22.\n",
      "  \"10 in version 0.20 to 100 in 0.22.\", FutureWarning)\n",
      "C:\\ProgramData\\Anaconda3\\lib\\site-packages\\sklearn\\ensemble\\forest.py:246: FutureWarning: The default value of n_estimators will change from 10 in version 0.20 to 100 in 0.22.\n",
      "  \"10 in version 0.20 to 100 in 0.22.\", FutureWarning)\n"
     ]
    },
    {
     "name": "stdout",
     "output_type": "stream",
     "text": [
      "{'test': {'mse': [0.09185322009056068,\n",
      "                  0.09925627370543202,\n",
      "                  0.09811418748308977,\n",
      "                  0.10564962188632691,\n",
      "                  0.09617970102584981],\n",
      "          'score': [0.9951987138025663,\n",
      "                    0.9948117466488301,\n",
      "                    0.9948714449676284,\n",
      "                    0.9944775580994679,\n",
      "                    0.9949725630679749]},\n",
      " 'train': {'mse': [0.0033226527920463857,\n",
      "                   0.003740917277882336,\n",
      "                   0.0046212513069869765,\n",
      "                   0.00358255496747184,\n",
      "                   0.0031714109444908847],\n",
      "           'score': [0.999826531235526,\n",
      "                     0.9998048231452998,\n",
      "                     0.9997590176823249,\n",
      "                     0.9998131910129061,\n",
      "                     0.9998345906624282]},\n",
      " 'val': {'mse': [0.032865267558408025,\n",
      "                 0.022195984452997506,\n",
      "                 0.01935401381393397,\n",
      "                 0.02712073896930865,\n",
      "                 0.026814901317932894],\n",
      "         'score': [0.9982881691005396,\n",
      "                   0.9988408458684525,\n",
      "                   0.9989871554010522,\n",
      "                   0.9985804453799095,\n",
      "                   0.9985977645620991]}}\n"
     ]
    }
   ],
   "source": [
    "rf_cv_result = cross_validate(RandomForestRegressor(), crossValidationSet, test_x, test_y)\n",
    "pprint(rf_cv_result)"
   ]
  },
  {
   "cell_type": "code",
   "execution_count": 56,
   "metadata": {},
   "outputs": [],
   "source": [
    "rf_predictions = rf.predict(test_x)"
   ]
  },
  {
   "cell_type": "code",
   "execution_count": 57,
   "metadata": {},
   "outputs": [
    {
     "data": {
      "text/plain": [
       "<matplotlib.collections.PathCollection at 0x1f70daa24a8>"
      ]
     },
     "execution_count": 57,
     "metadata": {},
     "output_type": "execute_result"
    },
    {
     "data": {
      "image/png": "[encoded data removed]",
      "text/plain": [
       "<Figure size 432x288 with 1 Axes>"
      ]
     },
     "metadata": {
      "needs_background": "light"
     },
     "output_type": "display_data"
    }
   ],
   "source": [
    "plt.scatter(test_y,rf_predictions)"
   ]
  },
  {
   "cell_type": "code",
   "execution_count": 58,
   "metadata": {},
   "outputs": [],
   "source": [
    "rf_case_predictions = rf_case.predict(case_x)"
   ]
  },
  {
   "cell_type": "code",
   "execution_count": 59,
   "metadata": {},
   "outputs": [
    {
     "data": {
      "text/plain": [
       "<matplotlib.collections.PathCollection at 0x1f70dab3b00>"
      ]
     },
     "execution_count": 59,
     "metadata": {},
     "output_type": "execute_result"
    },
    {
     "data": {
      "image/png": "[encoded data removed]",
      "text/plain": [
       "<Figure size 432x288 with 1 Axes>"
      ]
     },
     "metadata": {
      "needs_background": "light"
     },
     "output_type": "display_data"
    }
   ],
   "source": [
    "plt.scatter(case_y, rf_case_predictions)"
   ]
  },
  {
   "cell_type": "markdown",
   "metadata": {},
   "source": [
    "# Grid Search for Hyperparameter Tuning"
   ]
  },
  {
   "cell_type": "code",
   "execution_count": 60,
   "metadata": {},
   "outputs": [
    {
     "name": "stdout",
     "output_type": "stream",
     "text": [
      "{'max_depth': 1, 'n_estimators': 1}\n",
      "{'max_depth': 1, 'n_estimators': 10}\n",
      "{'max_depth': 1, 'n_estimators': 100}\n",
      "{'max_depth': 10, 'n_estimators': 1}\n",
      "{'max_depth': 10, 'n_estimators': 10}\n",
      "{'max_depth': 10, 'n_estimators': 100}\n",
      "{'max_depth': 20, 'n_estimators': 1}\n",
      "{'max_depth': 20, 'n_estimators': 10}\n",
      "{'max_depth': 20, 'n_estimators': 100}\n"
     ]
    }
   ],
   "source": [
    "# Random Forest Regression Params\n",
    "# n_estimators : [1, 10, 50, 100] This can be any value, but choosing these three for faster computation.\n",
    "# max_depth : [1, 10, 20]  This can be any value, but choosing these three for faster computation.\n",
    "# More params here : https://scikit-learn.org/stable/modules/generated/sklearn.ensemble.RandomForestRegressor.html\n",
    "params = {\"n_estimators\" : [1, 10, 100], \"max_depth\" : [1, 10, 20]}\n",
    "grid = list(ParameterGrid(params))\n",
    "result = [] # This result will contain the results for 5 cross validations per param combination created by ParameterGrid\n",
    "for param in grid :\n",
    "  print(param)\n",
    "#   result.append(cross_validate(RandomForestRegressor(*param),crossValidationSet, test_x, test_y))"
   ]
  },
  {
   "cell_type": "markdown",
   "metadata": {},
   "source": [
    "# Neural Net - Multi Layer Perceptron"
   ]
  },
  {
   "cell_type": "code",
   "execution_count": 61,
   "metadata": {},
   "outputs": [
    {
     "data": {
      "text/plain": [
       "MLPRegressor(activation='relu', alpha=0.0001, batch_size='auto', beta_1=0.9,\n",
       "       beta_2=0.999, early_stopping=False, epsilon=1e-08,\n",
       "       hidden_layer_sizes=(100,), learning_rate='constant',\n",
       "       learning_rate_init=0.001, max_iter=200, momentum=0.9,\n",
       "       n_iter_no_change=10, nesterovs_momentum=True, power_t=0.5,\n",
       "       random_state=None, shuffle=True, solver='adam', tol=0.0001,\n",
       "       validation_fraction=0.1, verbose=False, warm_start=False)"
      ]
     },
     "execution_count": 61,
     "metadata": {},
     "output_type": "execute_result"
    }
   ],
   "source": [
    "nn = MLPRegressor() # Init\n",
    "# nn = MLPRegressor(hidden_layer_sizes=(10,),  activation='relu', solver='lbfgs',alpha=0.001,batch_size='auto',\n",
    "#               learning_rate='constant', learning_rate_init=0.01, power_t=0.5, max_iter=1000, shuffle=True,\n",
    "#               random_state=None, tol=0.0001, verbose=False, warm_start=False, momentum=0.9,\n",
    "#               nesterovs_momentum=True, early_stopping=False, validation_fraction=0.1, beta_1=0.9, beta_2=0.999,\n",
    "#               epsilon=1e-08)\n",
    "nn.fit(train_x, train_y) # Train\n",
    "nn_case = MLPRegressor()\n",
    "nn_case.fit(case_x, case_y)"
   ]
  },
  {
   "cell_type": "markdown",
   "metadata": {},
   "source": [
    "# Multi Layer Perceptron Score and MSE. \n",
    "1. Score (0.0 to 1.0) 1.0 being the highest \n",
    "2. MSE (0.0 to 1.0) 0.0 being the best"
   ]
  },
  {
   "cell_type": "code",
   "execution_count": 36,
   "metadata": {},
   "outputs": [
    {
     "name": "stdout",
     "output_type": "stream",
     "text": [
      "********************MSE********************\n",
      "Training Set Score Multi Layer Perceptron : -4.696913906920841e-06\n",
      "Validation Set Score Multi Layer Perceptron : -0.06929046201936728\n",
      "Test Set Score Multi Layer Perceptron : -0.05160135672908761\n",
      "Training Set MSE Multi Layer Perceptron : 19.0685580014375\n",
      "Validation Set MSE Multi Layer Perceptron : 19.783632693959422\n",
      "Test Set MSE Multi Layer Perceptron : 20.11814478353699\n",
      "********************MAPE********************\n",
      "Training Set Score Multi Layer Perceptron : -4.696913906920841e-06\n",
      "Validation Set Score Multi Layer Perceptron : -0.06929046201936728\n",
      "Test Set Score Multi Layer Perceptron : -0.05160135672908761\n",
      "Training Set MAPE Multi Layer Perceptron : 30.28286383519381\n",
      "Validation Set MAPE Multi Layer Perceptron : 36.87344078759925\n",
      "Test Set MAPE Multi Layer Perceptron : 34.86606234091884\n",
      "********************Metrics for Case Data********************\n",
      "R2 Score Case Data RF: -295231059.9203078\n",
      "Case Set MAPE RF: 500183.3851689119\n"
     ]
    }
   ],
   "source": [
    "print(\"********************MSE********************\")\n",
    "# MSE on training set\n",
    "print(\"Training Set Score Multi Layer Perceptron :\", nn.score(train_x, train_y))\n",
    "\n",
    "# MSE on validation set\n",
    "print(\"Validation Set Score Multi Layer Perceptron :\", nn.score(val_x, val_y))\n",
    "\n",
    "# MSE on test set\n",
    "print(\"Test Set Score Multi Layer Perceptron :\", nn.score(test_x, test_y))\n",
    "\n",
    "# MSE on training set\n",
    "print(\"Training Set MSE Multi Layer Perceptron :\", mean_squared_error(train_y, nn.predict(train_x)))\n",
    "\n",
    "# MSE on validation set\n",
    "print(\"Validation Set MSE Multi Layer Perceptron :\", mean_squared_error(val_y, nn.predict(val_x)))\n",
    "\n",
    "# MSE on test set\n",
    "print(\"Test Set MSE Multi Layer Perceptron :\", mean_squared_error(test_y, nn.predict(test_x)))\n",
    "\n",
    "print(\"********************MAPE********************\")\n",
    "# MSE on training set\n",
    "print(\"Training Set Score Multi Layer Perceptron :\", nn.score(train_x, train_y))\n",
    "\n",
    "# MSE on validation set\n",
    "print(\"Validation Set Score Multi Layer Perceptron :\", nn.score(val_x, val_y))\n",
    "\n",
    "# MSE on test set\n",
    "print(\"Test Set Score Multi Layer Perceptron :\", nn.score(test_x, test_y))\n",
    "\n",
    "# MSE on training set\n",
    "print(\"Training Set MAPE Multi Layer Perceptron :\", mape(train_y, nn.predict(train_x)))\n",
    "\n",
    "# MSE on validation set\n",
    "print(\"Validation Set MAPE Multi Layer Perceptron :\", mape(val_y, nn.predict(val_x)))\n",
    "\n",
    "# MSE on test set\n",
    "print(\"Test Set MAPE Multi Layer Perceptron :\", mape(test_y, nn.predict(test_x)))\n",
    "\n",
    "print(\"********************Metrics for Case Data********************\")\n",
    "# R2 on case set\n",
    "print(\"R2 Score Case Data NN:\", nn_case.score(case_x, case_y ))\n",
    "# MAPE on case set\n",
    "print(\"Case Set MAPE NN:\", mape(case_y, nn_case.predict(case_x)))"
   ]
  },
  {
   "cell_type": "code",
   "execution_count": 27,
   "metadata": {},
   "outputs": [],
   "source": [
    "nn_predictions = nn.predict(test_x)"
   ]
  },
  {
   "cell_type": "code",
   "execution_count": 28,
   "metadata": {},
   "outputs": [
    {
     "data": {
      "text/plain": [
       "<matplotlib.collections.PathCollection at 0x1f70e095470>"
      ]
     },
     "execution_count": 28,
     "metadata": {},
     "output_type": "execute_result"
    },
    {
     "data": {
      "image/png": "[encoded data removed]",
      "text/plain": [
       "<Figure size 432x288 with 1 Axes>"
      ]
     },
     "metadata": {
      "needs_background": "light"
     },
     "output_type": "display_data"
    }
   ],
   "source": [
    "plt.scatter(test_y,nn_predictions)"
   ]
  },
  {
   "cell_type": "code",
   "execution_count": 29,
   "metadata": {},
   "outputs": [],
   "source": [
    "nn_case_pred = nn_case.predict(case_x)"
   ]
  },
  {
   "cell_type": "code",
   "execution_count": 30,
   "metadata": {},
   "outputs": [
    {
     "data": {
      "text/plain": [
       "<matplotlib.collections.PathCollection at 0x1f70eff7be0>"
      ]
     },
     "execution_count": 30,
     "metadata": {},
     "output_type": "execute_result"
    },
    {
     "data": {
      "image/png": "[encoded data removed]",
      "text/plain": [
       "<Figure size 432x288 with 1 Axes>"
      ]
     },
     "metadata": {
      "needs_background": "light"
     },
     "output_type": "display_data"
    }
   ],
   "source": [
    "plt.scatter(case_y, nn_case_pred)"
   ]
  },
  {
   "cell_type": "code",
   "execution_count": null,
   "metadata": {},
   "outputs": [],
   "source": []
  }
 ],
 "metadata": {
  "kernelspec": {
   "display_name": "Python 3",
   "language": "python",
   "name": "python3"
  },
  "language_info": {
   "codemirror_mode": {
    "name": "ipython",
    "version": 3
   },
   "file_extension": ".py",
   "mimetype": "text/x-python",
   "name": "python",
   "nbconvert_exporter": "python",
   "pygments_lexer": "ipython3",
   "version": "3.7.1"
  }
 },
 "nbformat": 4,
 "nbformat_minor": 2
}
