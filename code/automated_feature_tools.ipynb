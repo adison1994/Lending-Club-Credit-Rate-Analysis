{
 "cells": [
  {
   "cell_type": "code",
   "execution_count": 10,
   "metadata": {},
   "outputs": [],
   "source": [
    "import featuretools as ft\n",
    "import pandas as pad\n",
    "import numpy as np\n",
    "import os\n",
    "#read csv\n",
    "lc_data=pad.read_csv(\"cleaned_data_new.csv\", low_memory=False)\n",
    "# set target column interest rate\n",
    "interest_rate=lc_data['int_rate']\n"
   ]
  },
  {
   "cell_type": "code",
   "execution_count": 53,
   "metadata": {},
   "outputs": [],
   "source": []
  },
  {
   "cell_type": "code",
   "execution_count": null,
   "metadata": {},
   "outputs": [],
   "source": []
  },
  {
   "cell_type": "code",
   "execution_count": null,
   "metadata": {},
   "outputs": [
    {
     "data": {
      "text/plain": [
       "Entityset: interest_rate\n",
       "  Entities:\n",
       "    credit_rating [Rows: 887379, Columns: 18]\n",
       "    borrower [Rows: 887379, Columns: 12]\n",
       "  Relationships:\n",
       "    credit_rating.member_id -> borrower.member_id"
      ]
     },
     "execution_count": 11,
     "metadata": {},
     "output_type": "execute_result"
    }
   ],
   "source": [
    "\n",
    "es=ft.EntitySet(id='interest_rate')\n",
    "#add new entity from dataframe\n",
    "es.entity_from_dataframe(entity_id = 'credit_rating', dataframe = lc_data, index = 'id')\n",
    "\n",
    "#add new child entity from parent entity\n",
    "es.normalize_entity(base_entity_id='credit_rating', new_entity_id='borrower', index = 'member_id', \n",
    "additional_variables = ['loan_amnt','installment','emp_length','home_ownership','annual_inc','verification_status_joint','dti','dti_joint',\n",
    "'open_acc','total_acc','annual_inc_joint'])\n",
    "\n"
   ]
  },
  {
   "cell_type": "code",
   "execution_count": null,
   "metadata": {
    "scrolled": true
   },
   "outputs": [],
   "source": []
  },
  {
   "cell_type": "code",
   "execution_count": null,
   "metadata": {},
   "outputs": [
    {
     "name": "stdout",
     "output_type": "stream",
     "text": [
      "Built 60 features\n",
      "EntitySet scattered to workers in 72.455 seconds\n",
      "Elapsed: 00:00 | Remaining: ? | Progress:   0%|          | Calculated: 0/11 chunks"
     ]
    }
   ],
   "source": [
    "#generate feature matrix\n",
    "feature_matrix, feature_names = ft.dfs(entityset=es, \n",
    "target_entity = 'credit_rating', agg_primitives = ['min','max','mean','count','sum'], trans_primitives = ['cum_mean', 'cum_sum'],\n",
    "                                       max_depth = 1, \n",
    "                                       verbose = 1, \n",
    "                                       n_jobs = 5)\n",
    "\n"
   ]
  },
  {
   "cell_type": "code",
   "execution_count": 8,
   "metadata": {
    "scrolled": true
   },
   "outputs": [
    {
     "data": {
      "text/plain": [
       "Index(['member_id', 'funded_amnt', 'term', 'int_rate', 'grade', 'sub_grade',\n",
       "       'loan_status', 'pymnt_plan', 'initial_list_status', 'out_prncp',\n",
       "       'total_pymnt', 'total_rec_prncp', 'total_rec_int', 'total_rec_late_fee',\n",
       "       'recoveries', 'last_pymnt_amnt', 'application_type',\n",
       "       'CUM_MEAN(total_rec_int by member_id)',\n",
       "       'CUM_MEAN(total_rec_prncp by member_id)',\n",
       "       'CUM_MEAN(recoveries by member_id)',\n",
       "       'CUM_MEAN(funded_amnt by member_id)',\n",
       "       'CUM_MEAN(total_pymnt by member_id)',\n",
       "       'CUM_MEAN(last_pymnt_amnt by member_id)',\n",
       "       'CUM_MEAN(out_prncp by member_id)', 'CUM_MEAN(int_rate by member_id)',\n",
       "       'CUM_MEAN(loan_status by member_id)', 'CUM_MEAN(term by member_id)',\n",
       "       'CUM_MEAN(grade by member_id)',\n",
       "       'CUM_MEAN(application_type by member_id)',\n",
       "       'CUM_MEAN(initial_list_status by member_id)',\n",
       "       'CUM_MEAN(total_rec_late_fee by member_id)',\n",
       "       'CUM_MEAN(pymnt_plan by member_id)', 'CUM_MEAN(sub_grade by member_id)',\n",
       "       'CUM_SUM(total_rec_int by member_id)',\n",
       "       'CUM_SUM(total_rec_prncp by member_id)',\n",
       "       'CUM_SUM(recoveries by member_id)', 'CUM_SUM(funded_amnt by member_id)',\n",
       "       'CUM_SUM(total_pymnt by member_id)',\n",
       "       'CUM_SUM(last_pymnt_amnt by member_id)',\n",
       "       'CUM_SUM(out_prncp by member_id)', 'CUM_SUM(int_rate by member_id)',\n",
       "       'CUM_SUM(loan_status by member_id)', 'CUM_SUM(term by member_id)',\n",
       "       'CUM_SUM(grade by member_id)', 'CUM_SUM(application_type by member_id)',\n",
       "       'CUM_SUM(initial_list_status by member_id)',\n",
       "       'CUM_SUM(total_rec_late_fee by member_id)',\n",
       "       'CUM_SUM(pymnt_plan by member_id)', 'CUM_SUM(sub_grade by member_id)',\n",
       "       'borrower.loan_amnt', 'borrower.installment', 'borrower.emp_length',\n",
       "       'borrower.home_ownership', 'borrower.annual_inc',\n",
       "       'borrower.verification_status_joint', 'borrower.dti',\n",
       "       'borrower.dti_joint', 'borrower.open_acc', 'borrower.total_acc',\n",
       "       'borrower.annual_inc_joint'],\n",
       "      dtype='object')"
      ]
     },
     "execution_count": 8,
     "metadata": {},
     "output_type": "execute_result"
    }
   ],
   "source": [
    "#display features\n",
    "feature_matrix.columns"
   ]
  },
  {
   "cell_type": "code",
   "execution_count": 70,
   "metadata": {
    "scrolled": true
   },
   "outputs": [],
   "source": [
    "#export features in csv\n",
    "feature_matrix.to_csv(\"feature_matrix.csv\")"
   ]
  },
  {
   "cell_type": "code",
   "execution_count": null,
   "metadata": {},
   "outputs": [],
   "source": []
  },
  {
   "cell_type": "code",
   "execution_count": null,
   "metadata": {},
   "outputs": [],
   "source": []
  }
 ],
 "metadata": {
  "kernelspec": {
   "display_name": "Python 3",
   "language": "python",
   "name": "python3"
  },
  "language_info": {
   "codemirror_mode": {
    "name": "ipython",
    "version": 3
   },
   "file_extension": ".py",
   "mimetype": "text/x-python",
   "name": "python",
   "nbconvert_exporter": "python",
   "pygments_lexer": "ipython3",
   "version": "3.7.1"
  }
 },
 "nbformat": 4,
 "nbformat_minor": 2
}
