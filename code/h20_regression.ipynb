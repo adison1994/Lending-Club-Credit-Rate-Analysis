{
 "cells": [
  {
   "cell_type": "code",
   "execution_count": 1,
   "metadata": {},
   "outputs": [
    {
     "name": "stdout",
     "output_type": "stream",
     "text": [
      "Checking whether there is an H2O instance running at http://localhost:54321..... not found.\n",
      "Attempting to start a local H2O server...\n",
      "; Java HotSpot(TM) 64-Bit Server VM (build 25.201-b09, mixed mode)\n",
      "  Starting server from C:\\Users\\adity\\Anaconda3\\lib\\site-packages\\h2o\\backend\\bin\\h2o.jar\n",
      "  Ice root: C:\\Users\\adity\\AppData\\Local\\Temp\\tmpmu86g585\n",
      "  JVM stdout: C:\\Users\\adity\\AppData\\Local\\Temp\\tmpmu86g585\\h2o_adity_started_from_python.out\n",
      "  JVM stderr: C:\\Users\\adity\\AppData\\Local\\Temp\\tmpmu86g585\\h2o_adity_started_from_python.err\n",
      "  Server is running at http://127.0.0.1:54321\n",
      "Connecting to H2O server at http://127.0.0.1:54321... successful.\n"
     ]
    },
    {
     "data": {
      "text/html": [
       "<div style=\"overflow:auto\"><table style=\"width:50%\"><tr><td>H2O cluster uptime:</td>\n",
       "<td>04 secs</td></tr>\n",
       "<tr><td>H2O cluster timezone:</td>\n",
       "<td>America/New_York</td></tr>\n",
       "<tr><td>H2O data parsing timezone:</td>\n",
       "<td>UTC</td></tr>\n",
       "<tr><td>H2O cluster version:</td>\n",
       "<td>3.22.1.6</td></tr>\n",
       "<tr><td>H2O cluster version age:</td>\n",
       "<td>8 days </td></tr>\n",
       "<tr><td>H2O cluster name:</td>\n",
       "<td>H2O_from_python_adity_5ojb9q</td></tr>\n",
       "<tr><td>H2O cluster total nodes:</td>\n",
       "<td>1</td></tr>\n",
       "<tr><td>H2O cluster free memory:</td>\n",
       "<td>1.762 Gb</td></tr>\n",
       "<tr><td>H2O cluster total cores:</td>\n",
       "<td>4</td></tr>\n",
       "<tr><td>H2O cluster allowed cores:</td>\n",
       "<td>4</td></tr>\n",
       "<tr><td>H2O cluster status:</td>\n",
       "<td>accepting new members, healthy</td></tr>\n",
       "<tr><td>H2O connection url:</td>\n",
       "<td>http://127.0.0.1:54321</td></tr>\n",
       "<tr><td>H2O connection proxy:</td>\n",
       "<td>None</td></tr>\n",
       "<tr><td>H2O internal security:</td>\n",
       "<td>False</td></tr>\n",
       "<tr><td>H2O API Extensions:</td>\n",
       "<td>Amazon S3, Algos, AutoML, Core V3, Core V4</td></tr>\n",
       "<tr><td>Python version:</td>\n",
       "<td>3.7.1 final</td></tr></table></div>"
      ],
      "text/plain": [
       "--------------------------  ------------------------------------------\n",
       "H2O cluster uptime:         04 secs\n",
       "H2O cluster timezone:       America/New_York\n",
       "H2O data parsing timezone:  UTC\n",
       "H2O cluster version:        3.22.1.6\n",
       "H2O cluster version age:    8 days\n",
       "H2O cluster name:           H2O_from_python_adity_5ojb9q\n",
       "H2O cluster total nodes:    1\n",
       "H2O cluster free memory:    1.762 Gb\n",
       "H2O cluster total cores:    4\n",
       "H2O cluster allowed cores:  4\n",
       "H2O cluster status:         accepting new members, healthy\n",
       "H2O connection url:         http://127.0.0.1:54321\n",
       "H2O connection proxy:\n",
       "H2O internal security:      False\n",
       "H2O API Extensions:         Amazon S3, Algos, AutoML, Core V3, Core V4\n",
       "Python version:             3.7.1 final\n",
       "--------------------------  ------------------------------------------"
      ]
     },
     "metadata": {},
     "output_type": "display_data"
    }
   ],
   "source": [
    "import h2o\n",
    "from h2o.automl import H2OAutoML\n",
    "h2o.init()"
   ]
  },
  {
   "cell_type": "code",
   "execution_count": 45,
   "metadata": {},
   "outputs": [
    {
     "name": "stdout",
     "output_type": "stream",
     "text": [
      "Parse progress: |█████████████████████████████████████████████████████████| 100%\n"
     ]
    }
   ],
   "source": [
    "import os \n",
    "\n",
    "df = h2o.import_file(\"cleaned_data_new.csv\")"
   ]
  },
  {
   "cell_type": "code",
   "execution_count": 46,
   "metadata": {},
   "outputs": [
    {
     "name": "stdout",
     "output_type": "stream",
     "text": [
      "Rows:887379\n",
      "Cols:29\n",
      "\n",
      "\n"
     ]
    },
    {
     "data": {
      "text/html": [
       "<table>\n",
       "<thead>\n",
       "<tr><th>       </th><th>id               </th><th>member_id        </th><th>loan_amnt        </th><th>funded_amnt       </th><th>term              </th><th>int_rate          </th><th>installment       </th><th>grade             </th><th>sub_grade        </th><th>emp_length        </th><th>home_ownership    </th><th>annual_inc       </th><th>verification_status_joint  </th><th>loan_status       </th><th>pymnt_plan          </th><th>dti               </th><th>open_acc          </th><th>total_acc         </th><th>initial_list_status  </th><th>out_prncp        </th><th>total_pymnt      </th><th>total_rec_prncp  </th><th>total_rec_int     </th><th>total_rec_late_fee  </th><th>recoveries       </th><th>last_pymnt_amnt   </th><th>application_type    </th><th>annual_inc_joint  </th><th>dti_joint           </th></tr>\n",
       "</thead>\n",
       "<tbody>\n",
       "<tr><td>type   </td><td>int              </td><td>int              </td><td>int              </td><td>int               </td><td>int               </td><td>real              </td><td>real              </td><td>int               </td><td>int              </td><td>int               </td><td>int               </td><td>real             </td><td>int                        </td><td>int               </td><td>int                 </td><td>real              </td><td>real              </td><td>real              </td><td>int                  </td><td>real             </td><td>real             </td><td>real             </td><td>real              </td><td>real                </td><td>real             </td><td>real              </td><td>int                 </td><td>real              </td><td>real                </td></tr>\n",
       "<tr><td>mins   </td><td>54734.0          </td><td>70473.0          </td><td>500.0            </td><td>500.0             </td><td>1.0               </td><td>5.32              </td><td>15.67             </td><td>1.0               </td><td>1.0              </td><td>0.0               </td><td>1.0               </td><td>0.0              </td><td>1.0                        </td><td>1.0               </td><td>1.0                 </td><td>0.0               </td><td>0.0               </td><td>1.0               </td><td>1.0                  </td><td>0.0              </td><td>0.0              </td><td>0.0              </td><td>0.0               </td><td>0.0                 </td><td>0.0              </td><td>0.0               </td><td>1.0                 </td><td>0.0               </td><td>0.0                 </td></tr>\n",
       "<tr><td>mean   </td><td>32465133.05502391</td><td>35001824.81556248</td><td>14755.26460508983</td><td>14741.877625005776</td><td>1.3000454146424505</td><td>13.246739679437985</td><td>436.71712736046254</td><td>2.7984029371891825</td><td>11.95994158076763</td><td>5.78473797554371  </td><td>3.9014299414342686</td><td>75027.58776076647</td><td>2.0274076803710694         </td><td>3.1106877670082365</td><td>1.0000112691420506  </td><td>18.157038739929533</td><td>11.548469037020435</td><td>25.26802614526409 </td><td>1.4851714994382335   </td><td>8403.124851906578</td><td>7558.826683643302</td><td>5757.706423625075</td><td>1754.8043266405916</td><td>0.3966917912800608  </td><td>45.91924337059968</td><td>2164.1455854582005</td><td>1.0005758531585702  </td><td>63.332912904181875</td><td>0.010502671350122098</td></tr>\n",
       "<tr><td>maxs   </td><td>68617057.0       </td><td>73544841.0       </td><td>35000.0          </td><td>35000.0           </td><td>2.0               </td><td>28.99             </td><td>1445.46           </td><td>7.0               </td><td>35.0             </td><td>10.0              </td><td>6.0               </td><td>9500000.0        </td><td>3.0                        </td><td>10.0              </td><td>2.0                 </td><td>9999.0            </td><td>90.0              </td><td>169.0             </td><td>2.0                  </td><td>49372.86         </td><td>57777.57987      </td><td>35000.03         </td><td>24205.62          </td><td>358.68              </td><td>33520.27         </td><td>36475.59          </td><td>2.0                 </td><td>500000.0          </td><td>43.86               </td></tr>\n",
       "<tr><td>sigma  </td><td>22827341.72126599</td><td>24113354.67555717</td><td>8435.4556012784  </td><td>8429.897656714647 </td><td>0.4582776456114872</td><td>4.3818674147124055</td><td>244.18659347639777</td><td>1.3125993531916096</td><td>6.493018957756477</td><td>3.6957763837673396</td><td>1.9218746115520982</td><td>64698.15432321103</td><td>0.7923799184448616         </td><td>2.0182198146359167</td><td>0.003356937257690966</td><td>17.190625687941186</td><td>5.317226237440313 </td><td>11.840367582938033</td><td>0.49978034880551947  </td><td>8493.450268733668</td><td>7871.243335695467</td><td>6625.441045702597</td><td>2095.356099236452 </td><td>4.087825339066814   </td><td>409.693873633066 </td><td>4794.783232905934 </td><td>0.023990043773936216</td><td>2925.651840436336 </td><td>0.47076424947585893 </td></tr>\n",
       "<tr><td>zeros  </td><td>0                </td><td>0                </td><td>0                </td><td>0                 </td><td>0                 </td><td>0                 </td><td>0                 </td><td>0                 </td><td>0                </td><td>44825             </td><td>0                 </td><td>2                </td><td>0                          </td><td>0                 </td><td>0                   </td><td>451               </td><td>7                 </td><td>0                 </td><td>0                    </td><td>255798           </td><td>17759            </td><td>18145            </td><td>18214             </td><td>874862              </td><td>862702           </td><td>17673             </td><td>0                   </td><td>886868            </td><td>886870              </td></tr>\n",
       "<tr><td>missing</td><td>0                </td><td>0                </td><td>0                </td><td>0                 </td><td>0                 </td><td>0                 </td><td>0                 </td><td>0                 </td><td>0                </td><td>0                 </td><td>0                 </td><td>0                </td><td>0                          </td><td>0                 </td><td>0                   </td><td>0                 </td><td>0                 </td><td>0                 </td><td>0                    </td><td>0                </td><td>0                </td><td>0                </td><td>0                 </td><td>0                   </td><td>0                </td><td>0                 </td><td>0                   </td><td>0                 </td><td>0                   </td></tr>\n",
       "<tr><td>0      </td><td>1077501.0        </td><td>1296599.0        </td><td>5000.0           </td><td>5000.0            </td><td>1.0               </td><td>10.65             </td><td>162.87            </td><td>2.0               </td><td>7.0              </td><td>10.0              </td><td>6.0               </td><td>24000.0          </td><td>3.0                        </td><td>6.0               </td><td>1.0                 </td><td>27.65             </td><td>3.0               </td><td>9.0               </td><td>1.0                  </td><td>0.0              </td><td>5861.071414      </td><td>5000.0           </td><td>861.07            </td><td>0.0                 </td><td>0.0              </td><td>171.62            </td><td>1.0                 </td><td>0.0               </td><td>0.0                 </td></tr>\n",
       "<tr><td>1      </td><td>1077430.0        </td><td>1314167.0        </td><td>2500.0           </td><td>2500.0            </td><td>2.0               </td><td>15.27             </td><td>59.83             </td><td>3.0               </td><td>14.0             </td><td>1.0               </td><td>6.0               </td><td>30000.0          </td><td>2.0                        </td><td>1.0               </td><td>1.0                 </td><td>1.0               </td><td>3.0               </td><td>4.0               </td><td>1.0                  </td><td>0.0              </td><td>1008.71          </td><td>456.46           </td><td>435.17            </td><td>0.0                 </td><td>117.08           </td><td>119.66            </td><td>1.0                 </td><td>0.0               </td><td>0.0                 </td></tr>\n",
       "<tr><td>2      </td><td>1077175.0        </td><td>1313524.0        </td><td>2400.0           </td><td>2400.0            </td><td>1.0               </td><td>15.96             </td><td>84.33             </td><td>3.0               </td><td>15.0             </td><td>10.0              </td><td>6.0               </td><td>12252.0          </td><td>1.0                        </td><td>6.0               </td><td>1.0                 </td><td>8.72              </td><td>2.0               </td><td>10.0              </td><td>1.0                  </td><td>0.0              </td><td>3003.653644      </td><td>2400.0           </td><td>603.65            </td><td>0.0                 </td><td>0.0              </td><td>649.91            </td><td>1.0                 </td><td>0.0               </td><td>0.0                 </td></tr>\n",
       "<tr><td>3      </td><td>1076863.0        </td><td>1277178.0        </td><td>10000.0          </td><td>10000.0           </td><td>1.0               </td><td>13.49             </td><td>339.31            </td><td>3.0               </td><td>11.0             </td><td>10.0              </td><td>6.0               </td><td>49200.0          </td><td>2.0                        </td><td>6.0               </td><td>1.0                 </td><td>20.0              </td><td>10.0              </td><td>37.0              </td><td>1.0                  </td><td>0.0              </td><td>12226.30221      </td><td>10000.0          </td><td>2209.33           </td><td>16.97               </td><td>0.0              </td><td>357.48            </td><td>1.0                 </td><td>0.0               </td><td>0.0                 </td></tr>\n",
       "<tr><td>4      </td><td>1075358.0        </td><td>1311748.0        </td><td>3000.0           </td><td>3000.0            </td><td>2.0               </td><td>12.69             </td><td>67.79             </td><td>2.0               </td><td>10.0             </td><td>1.0               </td><td>6.0               </td><td>80000.0          </td><td>2.0                        </td><td>2.0               </td><td>1.0                 </td><td>17.94             </td><td>15.0              </td><td>38.0              </td><td>1.0                  </td><td>766.9            </td><td>3242.17          </td><td>2233.1           </td><td>1009.07           </td><td>0.0                 </td><td>0.0              </td><td>67.79             </td><td>1.0                 </td><td>0.0               </td><td>0.0                 </td></tr>\n",
       "<tr><td>5      </td><td>1075269.0        </td><td>1311441.0        </td><td>5000.0           </td><td>5000.0            </td><td>1.0               </td><td>7.9               </td><td>156.46            </td><td>1.0               </td><td>4.0              </td><td>3.0               </td><td>6.0               </td><td>36000.0          </td><td>2.0                        </td><td>6.0               </td><td>1.0                 </td><td>11.2              </td><td>9.0               </td><td>12.0              </td><td>1.0                  </td><td>0.0              </td><td>5631.377753      </td><td>5000.0           </td><td>631.38            </td><td>0.0                 </td><td>0.0              </td><td>161.03            </td><td>1.0                 </td><td>0.0               </td><td>0.0                 </td></tr>\n",
       "<tr><td>6      </td><td>1069639.0        </td><td>1304742.0        </td><td>7000.0           </td><td>7000.0            </td><td>2.0               </td><td>15.96             </td><td>170.08            </td><td>3.0               </td><td>15.0             </td><td>8.0               </td><td>6.0               </td><td>47004.0          </td><td>1.0                        </td><td>2.0               </td><td>1.0                 </td><td>23.51             </td><td>7.0               </td><td>11.0              </td><td>1.0                  </td><td>1889.15          </td><td>8136.84          </td><td>5110.85          </td><td>3025.99           </td><td>0.0                 </td><td>0.0              </td><td>170.08            </td><td>1.0                 </td><td>0.0               </td><td>0.0                 </td></tr>\n",
       "<tr><td>7      </td><td>1072053.0        </td><td>1288686.0        </td><td>3000.0           </td><td>3000.0            </td><td>1.0               </td><td>18.64             </td><td>109.43            </td><td>5.0               </td><td>21.0             </td><td>9.0               </td><td>6.0               </td><td>48000.0          </td><td>2.0                        </td><td>6.0               </td><td>1.0                 </td><td>5.35              </td><td>4.0               </td><td>4.0               </td><td>1.0                  </td><td>0.0              </td><td>3938.144334      </td><td>3000.0           </td><td>938.14            </td><td>0.0                 </td><td>0.0              </td><td>111.34            </td><td>1.0                 </td><td>0.0               </td><td>0.0                 </td></tr>\n",
       "<tr><td>8      </td><td>1071795.0        </td><td>1306957.0        </td><td>5600.0           </td><td>5600.0            </td><td>2.0               </td><td>21.28             </td><td>152.39            </td><td>6.0               </td><td>27.0             </td><td>4.0               </td><td>5.0               </td><td>40000.0          </td><td>2.0                        </td><td>1.0               </td><td>1.0                 </td><td>5.55              </td><td>11.0              </td><td>13.0              </td><td>1.0                  </td><td>0.0              </td><td>646.02           </td><td>162.02           </td><td>294.94            </td><td>0.0                 </td><td>189.06           </td><td>152.39            </td><td>1.0                 </td><td>0.0               </td><td>0.0                 </td></tr>\n",
       "<tr><td>9      </td><td>1071570.0        </td><td>1306721.0        </td><td>5375.0           </td><td>5375.0            </td><td>2.0               </td><td>12.69             </td><td>121.45            </td><td>2.0               </td><td>10.0             </td><td>1.0               </td><td>6.0               </td><td>15000.0          </td><td>3.0                        </td><td>1.0               </td><td>1.0                 </td><td>18.08             </td><td>2.0               </td><td>3.0               </td><td>1.0                  </td><td>0.0              </td><td>1476.19          </td><td>673.48           </td><td>533.42            </td><td>0.0                 </td><td>269.29           </td><td>121.45            </td><td>1.0                 </td><td>0.0               </td><td>0.0                 </td></tr>\n",
       "</tbody>\n",
       "</table>"
      ]
     },
     "metadata": {},
     "output_type": "display_data"
    }
   ],
   "source": [
    "#describe table structure\n",
    "df.describe()"
   ]
  },
  {
   "cell_type": "code",
   "execution_count": 47,
   "metadata": {},
   "outputs": [],
   "source": [
    "#set response variables\n",
    "y=\"int_rate\""
   ]
  },
  {
   "cell_type": "code",
   "execution_count": 48,
   "metadata": {},
   "outputs": [],
   "source": [
    "#split dataset in train and test data\n",
    "splits = df.split_frame(ratios = [0.8], seed = 1)\n",
    "train = splits[0]\n",
    "test = splits[1]"
   ]
  },
  {
   "cell_type": "code",
   "execution_count": 49,
   "metadata": {},
   "outputs": [
    {
     "name": "stdout",
     "output_type": "stream",
     "text": [
      "AutoML progress: |████████████████████████████████████████████████████████| 100%\n"
     ]
    }
   ],
   "source": [
    "\n",
    "aml = H2OAutoML(max_runtime_secs = 60, seed = 1, project_name = \"lending_club_frame\")\n",
    "aml.train(y = y, training_frame = train, leaderboard_frame = test)"
   ]
  },
  {
   "cell_type": "code",
   "execution_count": 32,
   "metadata": {},
   "outputs": [
    {
     "name": "stdout",
     "output_type": "stream",
     "text": [
      "AutoML progress: |████████████████████████████████████████████████████████| 100%\n"
     ]
    }
   ],
   "source": [
    "aml2 = H2OAutoML(max_runtime_secs = 60, seed = 1, project_name = \"lending_club_full_data\")\n",
    "aml2.train(y = y, training_frame = df)"
   ]
  },
  {
   "cell_type": "code",
   "execution_count": null,
   "metadata": {},
   "outputs": [],
   "source": [
    "aml.leaderboard.head()"
   ]
  },
  {
   "cell_type": "code",
   "execution_count": null,
   "metadata": {},
   "outputs": [],
   "source": [
    "#predict models\n",
    "pred = aml.predict(test)\n",
    "pred.head()"
   ]
  },
  {
   "cell_type": "code",
   "execution_count": null,
   "metadata": {},
   "outputs": [],
   "source": [
    "#display perfromance\n",
    "perf = aml.leader.model_performance(test)\n",
    "perf"
   ]
  }
 ],
 "metadata": {
  "kernelspec": {
   "display_name": "Python 3",
   "language": "python",
   "name": "python3"
  },
  "language_info": {
   "codemirror_mode": {
    "name": "ipython",
    "version": 3
   },
   "file_extension": ".py",
   "mimetype": "text/x-python",
   "name": "python",
   "nbconvert_exporter": "python",
   "pygments_lexer": "ipython3",
   "version": "3.7.1"
  }
 },
 "nbformat": 4,
 "nbformat_minor": 2
}
